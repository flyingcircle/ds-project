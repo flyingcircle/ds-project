{
 "cells": [
  {
   "cell_type": "code",
   "execution_count": 15,
   "source": [
    "import pandas as pd\n",
    "import numpy as np\n",
    "\n",
    "import data\n",
    "import svm"
   ],
   "outputs": [],
   "metadata": {}
  },
  {
   "cell_type": "code",
   "execution_count": 16,
   "source": [
    "daily = data.get_transit_daily()\n",
    "# gets a smaller version for faster troubleshooting\n",
    "daily = data.data_transforms(daily)"
   ],
   "outputs": [],
   "metadata": {}
  },
  {
   "cell_type": "code",
   "execution_count": 17,
   "source": [
    "#daily.describe().transpose()"
   ],
   "outputs": [],
   "metadata": {}
  },
  {
   "cell_type": "code",
   "execution_count": 18,
   "source": [
    "x = daily[data.USED_COLS]\n",
    "x = pd.get_dummies(x)  # turns all categoricals into one hot encoded columns!\n",
    "label = x.pop(\"label\")"
   ],
   "outputs": [],
   "metadata": {}
  },
  {
   "cell_type": "code",
   "execution_count": 223,
   "source": [
    "from sklearn.decomposition import PCA\n",
    "# n components\n",
    "pca = PCA(4)"
   ],
   "outputs": [],
   "metadata": {}
  },
  {
   "cell_type": "code",
   "execution_count": 224,
   "source": [
    "from sklearn.model_selection import train_test_split\n",
    "X_train, X_test, y_train, y_test = train_test_split(x.values, label.values)\n",
    "\n",
    "proj = pca.fit_transform(X_train)\n",
    "test_proj = pca.transform(X_test)\n",
    "print(\"sum of variance_ratio: \", np.sum(pca.explained_variance_ratio_))\n",
    "print(\"shape of new data: \", proj.shape)\n",
    "\n",
    "model = svm.train_svm(proj, y_train)"
   ],
   "outputs": [
    {
     "output_type": "stream",
     "name": "stdout",
     "text": [
      "variance ratio:  [9.95372726e-01 3.64819848e-03 8.03735478e-04 1.53338188e-04]\n",
      "sum of variance_ratio:  0.9999779980869917\n",
      "shape of new data:  (7407, 4)\n"
     ]
    }
   ],
   "metadata": {}
  },
  {
   "cell_type": "code",
   "execution_count": 230,
   "source": [
    "results = model.predict(test_proj)"
   ],
   "outputs": [],
   "metadata": {}
  },
  {
   "cell_type": "code",
   "execution_count": 231,
   "source": [
    "# plot predicted and actual\n",
    "#util.plot(69,420,results,y_test)"
   ],
   "outputs": [],
   "metadata": {}
  },
  {
   "cell_type": "code",
   "execution_count": 232,
   "source": [
    "# get accuracy\n",
    "from sklearn import metrics\n",
    "\n",
    "print(\"MAE: \", metrics.mean_absolute_error(y_test,results))"
   ],
   "outputs": [
    {
     "output_type": "stream",
     "name": "stdout",
     "text": [
      "MAE:  68.1944940536269\n"
     ]
    }
   ],
   "metadata": {}
  },
  {
   "cell_type": "code",
   "execution_count": 233,
   "source": [
    "print(\"MSE: \", metrics.mean_squared_error(y_test,results))"
   ],
   "outputs": [
    {
     "output_type": "stream",
     "name": "stdout",
     "text": [
      "MSE:  17848.209776667412\n"
     ]
    }
   ],
   "metadata": {}
  },
  {
   "cell_type": "code",
   "execution_count": 234,
   "source": [
    "print(\"R2: \", metrics.r2_score(y_test,results))"
   ],
   "outputs": [
    {
     "output_type": "stream",
     "name": "stdout",
     "text": [
      "R2:  0.2785441466125891\n"
     ]
    }
   ],
   "metadata": {}
  }
 ],
 "metadata": {
  "orig_nbformat": 4,
  "language_info": {
   "name": "python"
  }
 },
 "nbformat": 4,
 "nbformat_minor": 2
}