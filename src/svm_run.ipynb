{
 "cells": [
  {
   "cell_type": "code",
   "execution_count": 17,
   "source": [
    "import pandas as pd\n",
    "import numpy as np\n",
    "\n",
    "import data\n",
    "import svm"
   ],
   "outputs": [],
   "metadata": {}
  },
  {
   "cell_type": "code",
   "execution_count": 18,
   "source": [
    "#daily = data.get_transit_daily()\n",
    "# gets a smaller version for faster troubleshooting\n",
    "#daily = data.data_transforms(daily)\n",
    "daily = data.get_mega_stop()"
   ],
   "outputs": [],
   "metadata": {}
  },
  {
   "cell_type": "code",
   "execution_count": 19,
   "source": [
    "daily = daily.drop(columns=['apc_status', 'service_date', 'service_key'])\n",
    "print(daily.dtypes)"
   ],
   "outputs": [
    {
     "output_type": "stream",
     "name": "stdout",
     "text": [
      "arrive_time                           int64\n",
      "data_source                           int64\n",
      "direction                          category\n",
      "door                               category\n",
      "dwell                                 int64\n",
      "estimated_load                        int64\n",
      "leave_time                            int64\n",
      "lift                               category\n",
      "location_id                        category\n",
      "maximum_speed                         int64\n",
      "offs                                  int64\n",
      "ons                                   int64\n",
      "pattern_distance                    float32\n",
      "route_number                       category\n",
      "schedule_status                       int64\n",
      "stop_time                             int64\n",
      "train                              category\n",
      "train_mileage                       float32\n",
      "trip_number                           int64\n",
      "vehicle_number                     category\n",
      "x_coordinate                        float32\n",
      "y_coordinate                        float32\n",
      "day_of_year                        category\n",
      "day_of_week                        category\n",
      "arrival_deviance                      int64\n",
      "arrive_deviance_departure_delta       int64\n",
      "time_cat_stop_time                 category\n",
      "time_cat_arrive_time               category\n",
      "time_cat_leave_time                category\n",
      "dtype: object\n"
     ]
    }
   ],
   "metadata": {}
  },
  {
   "cell_type": "code",
   "execution_count": 20,
   "source": [
    "daily['label'] = daily.groupby('trip_number')['arrival_deviance'].shift(-1)\n",
    "daily = daily[~daily.isin([np.nan, np.inf, -np.inf]).any(1)]"
   ],
   "outputs": [],
   "metadata": {}
  },
  {
   "cell_type": "code",
   "execution_count": 21,
   "source": [
    "x = daily\n",
    "x = pd.get_dummies(x)\n",
    "from sklearn import preprocessing\n",
    "min_max_scaler = preprocessing.MinMaxScaler()\n",
    "x_scaled = min_max_scaler.fit_transform(x)"
   ],
   "outputs": [],
   "metadata": {}
  },
  {
   "cell_type": "code",
   "execution_count": 22,
   "source": [
    "labels = x.pop(\"label\")\n",
    "print(labels)"
   ],
   "outputs": [
    {
     "output_type": "stream",
     "name": "stdout",
     "text": [
      "202727    90.0\n",
      "330011    79.0\n",
      "330010    65.0\n",
      "330009    55.0\n",
      "330008    41.0\n",
      "          ... \n",
      "426457   -47.0\n",
      "426458   -34.0\n",
      "426459   -27.0\n",
      "426460   -52.0\n",
      "426461   -46.0\n",
      "Name: label, Length: 9998, dtype: float64\n"
     ]
    }
   ],
   "metadata": {}
  },
  {
   "cell_type": "code",
   "execution_count": 47,
   "source": [
    "from sklearn.decomposition import PCA\n",
    "# n components\n",
    "pca = PCA(300)"
   ],
   "outputs": [],
   "metadata": {}
  },
  {
   "cell_type": "code",
   "execution_count": 48,
   "source": [
    "print(x_scaled)\n",
    "print(x.shape)"
   ],
   "outputs": [
    {
     "output_type": "stream",
     "name": "stdout",
     "text": [
      "[[0.5945322  1.         0.         ... 0.         0.         0.        ]\n",
      " [0.66123937 1.         0.         ... 0.         0.         0.        ]\n",
      " [0.65953827 1.         0.         ... 0.         0.         0.        ]\n",
      " ...\n",
      " [0.15164034 1.         0.         ... 0.         0.         0.        ]\n",
      " [0.15419198 1.         0.03410853 ... 0.         0.         0.        ]\n",
      " [0.16075334 1.         0.         ... 0.         0.         0.        ]]\n",
      "(9998, 2080)\n"
     ]
    }
   ],
   "metadata": {}
  },
  {
   "cell_type": "code",
   "execution_count": 49,
   "source": [
    "from sklearn.model_selection import train_test_split\n",
    "X_train, X_test, y_train, y_test = train_test_split(x_scaled, labels)\n",
    "\n",
    "proj = pca.fit_transform(X_train)\n",
    "test_proj = pca.transform(X_test)\n",
    "print(\"sum of variance_ratio: \", np.sum(pca.explained_variance_ratio_))\n",
    "print(\"shape of new data: \", proj.shape)\n",
    "\n",
    "model = svm.train_svm(proj, y_train)"
   ],
   "outputs": [
    {
     "output_type": "stream",
     "name": "stdout",
     "text": [
      "sum of variance_ratio:  0.9950400500952727\n",
      "shape of new data:  (7498, 300)\n"
     ]
    }
   ],
   "metadata": {}
  },
  {
   "cell_type": "code",
   "execution_count": 50,
   "source": [
    "results = model.predict(test_proj)"
   ],
   "outputs": [],
   "metadata": {}
  },
  {
   "cell_type": "code",
   "execution_count": 55,
   "source": [
    "# plot predicted and actual\n",
    "import util\n",
    "util.plot(69,420,results,y_test)"
   ],
   "outputs": [
    {
     "output_type": "error",
     "ename": "NameError",
     "evalue": "name 'util' is not defined",
     "traceback": [
      "\u001b[0;31m---------------------------------------------------------------------------\u001b[0m",
      "\u001b[0;31mNameError\u001b[0m                                 Traceback (most recent call last)",
      "\u001b[0;32m/var/folders/y4/9tc0ndxs0n1g8nmwk290687h0000gn/T/ipykernel_74979/1084306585.py\u001b[0m in \u001b[0;36m<module>\u001b[0;34m\u001b[0m\n\u001b[1;32m      1\u001b[0m \u001b[0;31m# plot predicted and actual\u001b[0m\u001b[0;34m\u001b[0m\u001b[0;34m\u001b[0m\u001b[0;34m\u001b[0m\u001b[0m\n\u001b[0;32m----> 2\u001b[0;31m \u001b[0mutil\u001b[0m\u001b[0;34m.\u001b[0m\u001b[0mplot\u001b[0m\u001b[0;34m(\u001b[0m\u001b[0;36m69\u001b[0m\u001b[0;34m,\u001b[0m\u001b[0;36m420\u001b[0m\u001b[0;34m,\u001b[0m\u001b[0mresults\u001b[0m\u001b[0;34m,\u001b[0m\u001b[0my_test\u001b[0m\u001b[0;34m)\u001b[0m\u001b[0;34m\u001b[0m\u001b[0;34m\u001b[0m\u001b[0m\n\u001b[0m",
      "\u001b[0;31mNameError\u001b[0m: name 'util' is not defined"
     ]
    }
   ],
   "metadata": {}
  },
  {
   "cell_type": "code",
   "execution_count": 52,
   "source": [
    "# get accuracy\n",
    "from sklearn import metrics\n",
    "\n",
    "print(\"MAE: \", metrics.mean_absolute_error(y_test,results))"
   ],
   "outputs": [
    {
     "output_type": "stream",
     "name": "stdout",
     "text": [
      "MAE:  31.871722311094963\n"
     ]
    }
   ],
   "metadata": {}
  },
  {
   "cell_type": "code",
   "execution_count": 53,
   "source": [
    "print(\"MSE: \", metrics.mean_squared_error(y_test,results))"
   ],
   "outputs": [
    {
     "output_type": "stream",
     "name": "stdout",
     "text": [
      "MSE:  2916.81033081188\n"
     ]
    }
   ],
   "metadata": {}
  },
  {
   "cell_type": "code",
   "execution_count": 54,
   "source": [
    "print(\"R2: \", metrics.r2_score(y_test,results))"
   ],
   "outputs": [
    {
     "output_type": "stream",
     "name": "stdout",
     "text": [
      "R2:  0.6891931107113365\n"
     ]
    }
   ],
   "metadata": {}
  }
 ],
 "metadata": {
  "orig_nbformat": 4,
  "language_info": {
   "name": "python",
   "version": "3.9.1",
   "mimetype": "text/x-python",
   "codemirror_mode": {
    "name": "ipython",
    "version": 3
   },
   "pygments_lexer": "ipython3",
   "nbconvert_exporter": "python",
   "file_extension": ".py"
  },
  "kernelspec": {
   "name": "python3",
   "display_name": "Python 3.9.1 64-bit ('python@3.9')"
  },
  "interpreter": {
   "hash": "ac2eaa0ea0ebeafcc7822e65e46aa9d4f966f30b695406963e145ea4a91cd4fc"
  }
 },
 "nbformat": 4,
 "nbformat_minor": 2
}