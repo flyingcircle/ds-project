{
 "cells": [
  {
   "cell_type": "code",
   "execution_count": 1,
   "id": "58053409",
   "metadata": {},
   "outputs": [
    {
     "data": {
      "text/plain": [
       "<module 'util' from 'C:\\\\Users\\\\graham\\\\classes\\\\ds_exp\\\\ds-project\\\\src\\\\util.py'>"
      ]
     },
     "execution_count": 1,
     "metadata": {},
     "output_type": "execute_result"
    }
   ],
   "source": [
    "import pandas as pd\n",
    "import numpy as np\n",
    "import imp\n",
    "\n",
    "import data\n",
    "import util\n",
    "\n",
    "imp.reload(data)\n",
    "imp.reload(util)"
   ]
  },
  {
   "cell_type": "code",
   "execution_count": 2,
   "id": "4cf39ddc",
   "metadata": {},
   "outputs": [],
   "source": [
    "daily = data.get_transit_daily()\n",
    "# gets a smaller version for faster troubleshooting\n",
    "daily = data.data_transforms(daily)\n"
   ]
  },
  {
   "cell_type": "code",
   "execution_count": 3,
   "id": "8828fa54-5504-4d6c-a114-084f1197d3d2",
   "metadata": {},
   "outputs": [],
   "source": [
    "# print(sorted(daily))\n",
    "# print(daily.describe())\n",
    "# with pd.option_context(\"display.max_rows\", None, \"display.max_columns\", None):\n",
    "#     print(daily[[\"deviance\", \"label\", \"trip_id\"]].head(1000))"
   ]
  },
  {
   "cell_type": "code",
   "execution_count": 4,
   "id": "74fdc44a",
   "metadata": {},
   "outputs": [],
   "source": [
    "# import functools\n",
    "\n",
    "\n",
    "# # http://szudzik.com/ElegantPairing.pdf\n",
    "# @functools.lru_cache()\n",
    "# def pairing(a, b):\n",
    "#     return a * a + a + b if a >= b else a + b * b\n",
    "\n",
    "\n",
    "# daily[\"stop_id_pairing\"] = np.vectorize(pairing)(\n",
    "#     daily[\"stop_id\"], daily[\"stop_id\"].shift(1)\n",
    "# )"
   ]
  },
  {
   "cell_type": "code",
   "execution_count": 5,
   "id": "84c89088",
   "metadata": {},
   "outputs": [],
   "source": [
    "# daily.describe().transpose()"
   ]
  },
  {
   "cell_type": "code",
   "execution_count": 6,
   "id": "b81b7bcc",
   "metadata": {},
   "outputs": [],
   "source": [
    "# daily[\n",
    "#     [\n",
    "#         \"arrival_time_y\",\n",
    "#         \"departure_time_y\",\n",
    "#         \"arrival_time_x\",\n",
    "#         \"departure_time_x\",\n",
    "#         \"ons\",\n",
    "#         \"offs\",\n",
    "#     ]\n",
    "# ][:50]"
   ]
  },
  {
   "cell_type": "markdown",
   "id": "302b3243",
   "metadata": {},
   "source": [
    "## how do we really want to structure this data?\n",
    "\n",
    "* we want to make things somehow discrete by their trip_id\n",
    "* so we want to somehow take the trip id and feed the model things about the trip\n",
    "* we would feed it about the trip (up to different levels, and also expect it to answer about the whole trip each time\n",
    "* yes so make a multi output thing that takes in a variable amount of information about the trip and answers about either - what it hasnt been supplied yet\n",
    "* we want to have it somehow take in the previous x stops, and predict the next x stops?\n",
    "* we dont want to punish it for guessing outside of the trip either\n",
    "* we could also have it take in the last data to predict the stops\n",
    "* start with only feeding it nothing besides day of the week and stuff, have it predict the times on the route\n",
    "* slowly add in the realtime stats as the bus goes through its route, feeding it more each time\n",
    "* we could either have it feed in more and more until it's filled, or just use a 0 padded window of bus stops. \n",
    "* let's look more into how rnn's and lstm's are normally constructed.\n"
   ]
  },
  {
   "cell_type": "code",
   "execution_count": 7,
   "id": "3372e002",
   "metadata": {},
   "outputs": [],
   "source": [
    "x = daily[data.USED_COLS]\n",
    "x = pd.get_dummies(x)  # turns all categoricals into one hot encoded columns!\n",
    "\n",
    "label = x.pop(\"label\")"
   ]
  },
  {
   "cell_type": "code",
   "execution_count": 8,
   "id": "5dd0e099",
   "metadata": {},
   "outputs": [
    {
     "name": "stdout",
     "output_type": "stream",
     "text": [
      "number of input features:  458\n"
     ]
    }
   ],
   "source": [
    "print(\"number of input features: \", len(sorted(x)))"
   ]
  },
  {
   "cell_type": "code",
   "execution_count": 9,
   "id": "2189e845",
   "metadata": {},
   "outputs": [],
   "source": [
    "import tensorflow as tf\n",
    "\n",
    "tf.random.set_seed(1234)\n",
    "\n",
    "# https://www.tensorflow.org/tutorials/load_data/pandas_dataframe\n",
    "\n",
    "# if batch size is one the net freaks out (maybe traning, maybe testing, either way, it's bad)\n",
    "batch_size = 50\n",
    "data_len = len(x)\n",
    "train = 0.8\n",
    "val = 0.1\n",
    "test = 0.1\n",
    "\n",
    "assert train + val + test == 1\n",
    "\n",
    "train_size = int(train * data_len)\n",
    "val_size = int(val * data_len)\n",
    "\n",
    "dataset = tf.data.Dataset.from_tensor_slices((x.values, label.values))\n",
    "\n",
    "# only shuffles the training set\n",
    "train_dataset = dataset.take(train_size).shuffle(train_size).batch(batch_size)\n",
    "val_dataset = dataset.skip(train_size).take(val_size).batch(batch_size)\n",
    "test_dataset = dataset.skip(train_size).skip(val_size).batch(batch_size)"
   ]
  },
  {
   "cell_type": "code",
   "execution_count": 10,
   "id": "7f63e2e5",
   "metadata": {},
   "outputs": [],
   "source": [
    "def get_compiled_model():\n",
    "    model = tf.keras.Sequential(\n",
    "        [\n",
    "            tf.keras.layers.BatchNormalization(),\n",
    "            tf.keras.layers.Dense(500, activation=\"relu\"),\n",
    "            tf.keras.layers.Dense(100, activation=\"relu\"),\n",
    "            tf.keras.layers.Dense(50, activation=\"relu\"),\n",
    "            tf.keras.layers.Dense(50, activation=\"relu\"),\n",
    "            tf.keras.layers.Dense(50, activation=\"relu\"),\n",
    "            #             tf.keras.layers.Dropout(0.3),\n",
    "            tf.keras.layers.Dense(1),\n",
    "        ]\n",
    "    )\n",
    "\n",
    "    model.compile(\n",
    "        optimizer=\"adam\",\n",
    "        loss=tf.keras.losses.MeanSquaredError(\n",
    "            reduction=\"auto\", name=\"mean_squared_error\"\n",
    "        ),\n",
    "        metrics=[\"accuracy\", \"mean_absolute_error\"],\n",
    "    )\n",
    "\n",
    "    return model"
   ]
  },
  {
   "cell_type": "code",
   "execution_count": 11,
   "id": "00907bdc",
   "metadata": {},
   "outputs": [
    {
     "name": "stdout",
     "output_type": "stream",
     "text": [
      "Epoch 1/100\n",
      "1523/1523 [==============================] - 9s 5ms/step - loss: 13472.0596 - accuracy: 0.0045 - mean_absolute_error: 65.5492 - val_loss: 15945.3506 - val_accuracy: 0.0043 - val_mean_absolute_error: 101.8888\n",
      "Epoch 2/100\n",
      "1523/1523 [==============================] - 8s 5ms/step - loss: 9468.2773 - accuracy: 0.0044 - mean_absolute_error: 55.6989 - val_loss: 18560.6816 - val_accuracy: 0.0042 - val_mean_absolute_error: 111.6056\n",
      "Epoch 3/100\n",
      "1523/1523 [==============================] - 8s 5ms/step - loss: 8219.4248 - accuracy: 0.0048 - mean_absolute_error: 52.5829 - val_loss: 20710.5723 - val_accuracy: 0.0047 - val_mean_absolute_error: 111.1571\n",
      "Epoch 4/100\n",
      "1523/1523 [==============================] - 8s 5ms/step - loss: 7437.5356 - accuracy: 0.0047 - mean_absolute_error: 50.5307 - val_loss: 11691.0713 - val_accuracy: 0.0045 - val_mean_absolute_error: 84.7936\n",
      "Epoch 5/100\n",
      "1523/1523 [==============================] - 8s 5ms/step - loss: 6938.6079 - accuracy: 0.0046 - mean_absolute_error: 49.1079 - val_loss: 28948.4531 - val_accuracy: 0.0043 - val_mean_absolute_error: 141.6501\n",
      "Epoch 6/100\n",
      "1523/1523 [==============================] - 8s 5ms/step - loss: 6460.5967 - accuracy: 0.0043 - mean_absolute_error: 47.5965 - val_loss: 20774.7129 - val_accuracy: 0.0046 - val_mean_absolute_error: 109.9909\n",
      "Epoch 7/100\n",
      "1523/1523 [==============================] - 8s 5ms/step - loss: 6068.9287 - accuracy: 0.0048 - mean_absolute_error: 46.5955 - val_loss: 23901.7852 - val_accuracy: 0.0045 - val_mean_absolute_error: 121.7460\n",
      "Epoch 8/100\n",
      "1523/1523 [==============================] - 8s 5ms/step - loss: 5576.1157 - accuracy: 0.0047 - mean_absolute_error: 45.0131 - val_loss: 16242.5605 - val_accuracy: 0.0047 - val_mean_absolute_error: 94.3048\n",
      "Epoch 9/100\n",
      "1523/1523 [==============================] - 8s 5ms/step - loss: 5533.4678 - accuracy: 0.0043 - mean_absolute_error: 44.7604 - val_loss: 12284.6982 - val_accuracy: 0.0048 - val_mean_absolute_error: 78.5682\n",
      "Epoch 10/100\n",
      "1523/1523 [==============================] - 8s 5ms/step - loss: 5249.8784 - accuracy: 0.0045 - mean_absolute_error: 44.0677 - val_loss: 15440.2383 - val_accuracy: 0.0048 - val_mean_absolute_error: 92.8106\n",
      "Epoch 11/100\n",
      "1523/1523 [==============================] - 8s 5ms/step - loss: 4942.4355 - accuracy: 0.0044 - mean_absolute_error: 43.0906 - val_loss: 18514.3789 - val_accuracy: 0.0048 - val_mean_absolute_error: 103.5281\n",
      "Epoch 12/100\n",
      "1523/1523 [==============================] - 8s 5ms/step - loss: 4812.8462 - accuracy: 0.0043 - mean_absolute_error: 42.4552 - val_loss: 18448.3633 - val_accuracy: 0.0046 - val_mean_absolute_error: 101.8285\n",
      "Epoch 13/100\n",
      "1523/1523 [==============================] - 8s 5ms/step - loss: 4764.7764 - accuracy: 0.0044 - mean_absolute_error: 41.9361 - val_loss: 20413.6836 - val_accuracy: 0.0047 - val_mean_absolute_error: 109.9341\n",
      "Epoch 14/100\n",
      "1523/1523 [==============================] - 8s 5ms/step - loss: 4497.2920 - accuracy: 0.0045 - mean_absolute_error: 41.1672 - val_loss: 16823.9609 - val_accuracy: 0.0045 - val_mean_absolute_error: 96.1951\n",
      "Epoch 15/100\n",
      "1523/1523 [==============================] - 8s 5ms/step - loss: 4490.9727 - accuracy: 0.0044 - mean_absolute_error: 41.1910 - val_loss: 14525.1807 - val_accuracy: 0.0050 - val_mean_absolute_error: 87.2677\n",
      "Epoch 16/100\n",
      "1523/1523 [==============================] - 8s 5ms/step - loss: 4281.8315 - accuracy: 0.0044 - mean_absolute_error: 40.2341 - val_loss: 17436.8145 - val_accuracy: 0.0047 - val_mean_absolute_error: 95.4162\n",
      "Epoch 17/100\n",
      "1523/1523 [==============================] - 8s 5ms/step - loss: 4230.8496 - accuracy: 0.0046 - mean_absolute_error: 39.9888 - val_loss: 15895.2930 - val_accuracy: 0.0048 - val_mean_absolute_error: 91.7509\n",
      "Epoch 18/100\n",
      "1523/1523 [==============================] - 8s 5ms/step - loss: 4160.1973 - accuracy: 0.0045 - mean_absolute_error: 39.4890 - val_loss: 20158.1035 - val_accuracy: 0.0050 - val_mean_absolute_error: 101.4737\n",
      "Epoch 19/100\n",
      "1523/1523 [==============================] - 8s 5ms/step - loss: 4064.4102 - accuracy: 0.0043 - mean_absolute_error: 38.8740 - val_loss: 17600.0898 - val_accuracy: 0.0051 - val_mean_absolute_error: 98.0211\n"
     ]
    },
    {
     "data": {
      "text/plain": [
       "<tensorflow.python.keras.callbacks.History at 0x1740e9c4130>"
      ]
     },
     "execution_count": 11,
     "metadata": {},
     "output_type": "execute_result"
    }
   ],
   "source": [
    "model = get_compiled_model()\n",
    "callback = tf.keras.callbacks.EarlyStopping(\n",
    "    monitor=\"val_mean_absolute_error\", patience=10, restore_best_weights=True\n",
    ")\n",
    "model.fit(train_dataset, epochs=100, validation_data=val_dataset, callbacks=[callback])"
   ]
  },
  {
   "cell_type": "code",
   "execution_count": 12,
   "id": "3c7420fe",
   "metadata": {},
   "outputs": [
    {
     "name": "stdout",
     "output_type": "stream",
     "text": [
      "191/191 [==============================] - 1s 3ms/step - loss: 19255.0586 - accuracy: 0.0036 - mean_absolute_error: 81.6014\n"
     ]
    },
    {
     "data": {
      "text/plain": [
       "[19255.05859375, 0.00357217900454998, 81.60140228271484]"
      ]
     },
     "execution_count": 12,
     "metadata": {},
     "output_type": "execute_result"
    }
   ],
   "source": [
    "model.evaluate(test_dataset)"
   ]
  },
  {
   "cell_type": "code",
   "execution_count": 13,
   "id": "f7aef57d",
   "metadata": {},
   "outputs": [],
   "source": [
    "preds = []\n",
    "labels = []\n",
    "for data in test_dataset:\n",
    "    preds.append(model.predict_on_batch(data[0]).flatten())\n",
    "    labels.append(data[1])\n",
    "\n",
    "preds = [p.tolist() for p in preds]\n",
    "labels = [l.numpy().tolist() for l in labels]\n",
    "\n",
    "preds = util.flatten(preds)\n",
    "labels = util.flatten(labels)\n",
    "assert len(preds) == len(labels)"
   ]
  },
  {
   "cell_type": "code",
   "execution_count": 15,
   "id": "4cff56af",
   "metadata": {},
   "outputs": [
    {
     "ename": "TypeError",
     "evalue": "plot() missing 1 required positional argument: 'labels'",
     "output_type": "error",
     "traceback": [
      "\u001b[1;31m---------------------------------------------------------------------------\u001b[0m",
      "\u001b[1;31mTypeError\u001b[0m                                 Traceback (most recent call last)",
      "\u001b[1;32m<ipython-input-15-00a2d56e02ec>\u001b[0m in \u001b[0;36m<module>\u001b[1;34m\u001b[0m\n\u001b[0;32m      4\u001b[0m \u001b[0mplt\u001b[0m\u001b[1;33m.\u001b[0m\u001b[0mrcParams\u001b[0m\u001b[1;33m[\u001b[0m\u001b[1;34m\"figure.figsize\"\u001b[0m\u001b[1;33m]\u001b[0m \u001b[1;33m=\u001b[0m \u001b[1;33m[\u001b[0m\u001b[1;36m20\u001b[0m\u001b[1;33m,\u001b[0m \u001b[1;36m7\u001b[0m\u001b[1;33m]\u001b[0m\u001b[1;33m\u001b[0m\u001b[1;33m\u001b[0m\u001b[0m\n\u001b[0;32m      5\u001b[0m \u001b[1;33m\u001b[0m\u001b[0m\n\u001b[1;32m----> 6\u001b[1;33m \u001b[0mutil\u001b[0m\u001b[1;33m.\u001b[0m\u001b[0mplot\u001b[0m\u001b[1;33m(\u001b[0m\u001b[1;36m69\u001b[0m\u001b[1;33m,\u001b[0m \u001b[1;36m420\u001b[0m\u001b[1;33m,\u001b[0m \u001b[0mlabels\u001b[0m\u001b[1;33m)\u001b[0m\u001b[1;33m\u001b[0m\u001b[1;33m\u001b[0m\u001b[0m\n\u001b[0m\u001b[0;32m      7\u001b[0m \u001b[1;33m\u001b[0m\u001b[0m\n\u001b[0;32m      8\u001b[0m \u001b[0mutil\u001b[0m\u001b[1;33m.\u001b[0m\u001b[0mallDone\u001b[0m\u001b[1;33m(\u001b[0m\u001b[1;33m)\u001b[0m\u001b[1;33m\u001b[0m\u001b[1;33m\u001b[0m\u001b[0m\n",
      "\u001b[1;31mTypeError\u001b[0m: plot() missing 1 required positional argument: 'labels'"
     ]
    }
   ],
   "source": [
    "from matplotlib import pyplot as plt\n",
    "\n",
    "# adjust these numbers to change the width and height of the plot!\n",
    "plt.rcParams[\"figure.figsize\"] = [20, 7]\n",
    "\n",
    "util.plot(69, 420, preds, labels)\n",
    "\n",
    "util.allDone()"
   ]
  },
  {
   "cell_type": "code",
   "execution_count": 16,
   "id": "3b50b140-adf7-4a84-9ed7-dc9ca7601d00",
   "metadata": {},
   "outputs": [
    {
     "data": {
      "image/png": "[encoded data removed]",
      "text/plain": [
       "<Figure size 1440x504 with 1 Axes>"
      ]
     },
     "metadata": {
      "needs_background": "light"
     },
     "output_type": "display_data"
    }
   ],
   "source": [
    "def plot(l, r, labels, width=20, height=7):\n",
    "    labels = labels[l:r]\n",
    "    x = list(range(len(labels)))\n",
    "    plt.rcParams[\"figure.figsize\"] = [width, height]\n",
    "    plt.scatter(x, labels, label=\"labels\")\n",
    "    plt.legend()\n",
    "    plt.show()\n",
    "    \n",
    "plot(69, 420, labels)\n",
    "\n"
   ]
  }
 ],
 "metadata": {
  "kernelspec": {
   "display_name": "tf",
   "language": "python",
   "name": "tf"
  },
  "language_info": {
   "codemirror_mode": {
    "name": "ipython",
    "version": 3
   },
   "file_extension": ".py",
   "mimetype": "text/x-python",
   "name": "python",
   "nbconvert_exporter": "python",
   "pygments_lexer": "ipython3",
   "version": "3.8.10"
  },
  "toc-autonumbering": true,
  "toc-showcode": true
 },
 "nbformat": 4,
 "nbformat_minor": 5
}
