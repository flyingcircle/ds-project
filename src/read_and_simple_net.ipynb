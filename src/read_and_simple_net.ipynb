{
 "cells": [
  {
   "cell_type": "code",
   "execution_count": 1,
   "id": "161023a9-6e4c-44ab-9f40-d783cccfa17f",
   "metadata": {},
   "outputs": [],
   "source": [
    "import os\n",
    "import pandas as pd"
   ]
  },
  {
   "cell_type": "code",
   "execution_count": 2,
   "id": "2d46aebf-deb4-4f9a-885f-9c55a1f6a19f",
   "metadata": {},
   "outputs": [],
   "source": [
    "data_dir = os.path.join(os.getcwd(), \"..\", \"data\")\n",
    "daily_file = os.path.join(data_dir, \"transit_daily.csv\")"
   ]
  },
  {
   "cell_type": "code",
   "execution_count": 3,
   "id": "be703dfb-274c-443c-bc26-1a84e26600a3",
   "metadata": {},
   "outputs": [],
   "source": [
    "daily = pd.read_csv(daily_file, low_memory=False)"
   ]
  },
  {
   "cell_type": "code",
   "execution_count": 4,
   "id": "ac1f9d88-3c07-4a95-9a0e-81fb4966d3c8",
   "metadata": {},
   "outputs": [],
   "source": [
    "# gets a smaller version for easy troubleshooting\n",
    "daily = daily.head(5000)"
   ]
  },
  {
   "cell_type": "code",
   "execution_count": 5,
   "id": "93593c90-0e68-4913-8a4f-f85fa5e92796",
   "metadata": {},
   "outputs": [],
   "source": [
    "daily.deviance = daily.deviance.apply(lambda x: pd.to_timedelta(x).total_seconds())\n",
    "daily.service_date = daily.service_date.apply(lambda x: pd.to_datetime(x))\n",
    "# moves the labels one stop back, so that the previous stops information in the input for the current stops label\n",
    "daily.deviance = daily.deviance.shift(-1)\n",
    "daily = daily.dropna(axis=0, subset=[\"deviance\"])"
   ]
  },
  {
   "cell_type": "code",
   "execution_count": 6,
   "id": "0ef7ebe5-9f42-43c6-ac54-2d0eba6f7137",
   "metadata": {},
   "outputs": [
    {
     "name": "stdout",
     "output_type": "stream",
     "text": [
      "id                           object\n",
      "service_date         datetime64[ns]\n",
      "vehicle_number             category\n",
      "route_number               category\n",
      "trip_number                category\n",
      "arrival_time                float64\n",
      "departure_time              float64\n",
      "stop_id                    category\n",
      "door                        float64\n",
      "lift                        float64\n",
      "ons                         float64\n",
      "offs                        float64\n",
      "estimated_load              float64\n",
      "capacity                    float64\n",
      "early                       float64\n",
      "on_time                     float64\n",
      "late                        float64\n",
      "gtfs_stop_id               category\n",
      "data_source                category\n",
      "direction                  category\n",
      "dwell                       float64\n",
      "location_distance           float64\n",
      "maximum_speed               float64\n",
      "pattern_distance            float64\n",
      "schedule_status            category\n",
      "service_key                category\n",
      "stop_time                   float64\n",
      "train                      category\n",
      "train_mileage               float64\n",
      "trip_id                    category\n",
      "x_coordinate                float64\n",
      "y_coordinate                float64\n",
      "data_agency                category\n",
      "gtfs_trip_id               category\n",
      "gtfs_stop_time_id          category\n",
      "deviance                    float64\n",
      "dtype: object\n"
     ]
    }
   ],
   "source": [
    "categories = [\n",
    "    \"trip_number\",\n",
    "    \"gtfs_stop_time_id\",\n",
    "    \"gtfs_stop_id\",\n",
    "    \"gtfs_trip_id\",\n",
    "    \"train\",\n",
    "    \"trip_id\",\n",
    "    \"data_agency\",\n",
    "    \"data_source\",\n",
    "    \"direction\",\n",
    "    \"schedule_status\",\n",
    "    \"service_key\",\n",
    "    \"stop_id\",\n",
    "    \"vehicle_number\",\n",
    "    \"route_number\",\n",
    "    \"trip_number\",\n",
    "]\n",
    "\n",
    "# should work from what I understand, but doesn't...\n",
    "# daily[categories] = daily[categories].astype(\"category\")\n",
    "\n",
    "\n",
    "def make_categories(make_category, df):\n",
    "    for category in make_category:\n",
    "        df[category] = pd.Categorical(df[category])\n",
    "\n",
    "\n",
    "make_categories(categories, daily)\n",
    "\n",
    "print(daily.dtypes)"
   ]
  },
  {
   "cell_type": "code",
   "execution_count": 7,
   "id": "408d1035-039d-477d-bc60-c04dce08f88c",
   "metadata": {},
   "outputs": [],
   "source": [
    "used_cols = [\n",
    "    \"ons\",\n",
    "    \"offs\",\n",
    "    \"maximum_speed\",\n",
    "    \"deviance\",\n",
    "    \"service_key\",\n",
    "]\n",
    "x = daily[used_cols]\n",
    "x = pd.get_dummies(x)  # turns all categoricals into one hot encoded columns!\n",
    "\n",
    "target = x.pop(\"deviance\")"
   ]
  },
  {
   "cell_type": "code",
   "execution_count": 8,
   "id": "6479ff66-b776-490e-be97-14961116846c",
   "metadata": {},
   "outputs": [
    {
     "name": "stdout",
     "output_type": "stream",
     "text": [
      "      ons  offs  maximum_speed  service_key_U\n",
      "0     0.0   0.0           26.0              1\n",
      "1     0.0   0.0           35.0              1\n",
      "2     1.0   0.0           26.0              1\n",
      "3     0.0   0.0           33.0              1\n",
      "4     0.0   0.0           33.0              1\n",
      "...   ...   ...            ...            ...\n",
      "4994  1.0   1.0           25.0              1\n",
      "4995  0.0   0.0           25.0              1\n",
      "4996  1.0   0.0           24.0              1\n",
      "4997  0.0   0.0           17.0              1\n",
      "4998  0.0   0.0           26.0              1\n",
      "\n",
      "[4938 rows x 4 columns]\n",
      "0         3.0\n",
      "1       292.0\n",
      "2       -72.0\n",
      "3       -18.0\n",
      "4       136.0\n",
      "        ...  \n",
      "4994    -11.0\n",
      "4995     27.0\n",
      "4996      8.0\n",
      "4997    -95.0\n",
      "4998    -21.0\n",
      "Name: deviance, Length: 4938, dtype: float64\n"
     ]
    }
   ],
   "source": [
    "print(x)\n",
    "print(target)"
   ]
  },
  {
   "cell_type": "code",
   "execution_count": 14,
   "id": "ea9c21ca-e3f0-4a93-a8e7-4e040f846aa5",
   "metadata": {},
   "outputs": [],
   "source": [
    "import tensorflow as tf\n",
    "\n",
    "# https://www.tensorflow.org/tutorials/load_data/pandas_dataframe\n",
    "\n",
    "batch_size = 30\n",
    "data_len = len(x)\n",
    "train_test_split = int(0.7 * data_len)\n",
    "\n",
    "dataset = tf.data.Dataset.from_tensor_slices((x.values, target.values))\n",
    "dataset = dataset.shuffle(data_len)\n",
    "train_dataset = dataset.take(train_test_split).batch(batch_size)\n",
    "test_dataset = dataset.skip(train_test_split).batch(batch_size)"
   ]
  },
  {
   "cell_type": "code",
   "execution_count": 15,
   "id": "c6d64215-bd2c-4a8c-bffe-b69853baafc3",
   "metadata": {},
   "outputs": [],
   "source": [
    "# for features, target in train_dataset.take(5):\n",
    "#     print(\"Features: {}, Target: {}\".format(features, target))"
   ]
  },
  {
   "cell_type": "code",
   "execution_count": 16,
   "id": "d0a57b8c-7139-4165-8702-16c54bb8c87c",
   "metadata": {},
   "outputs": [],
   "source": [
    "def get_compiled_model():\n",
    "    model = tf.keras.Sequential(\n",
    "        [\n",
    "            tf.keras.layers.Dense(10, activation=\"relu\"),\n",
    "            tf.keras.layers.Dense(10, activation=\"relu\"),\n",
    "            tf.keras.layers.Dense(1),\n",
    "        ]\n",
    "    )\n",
    "\n",
    "    model.compile(\n",
    "        optimizer=\"adam\",\n",
    "        loss=tf.keras.losses.MeanSquaredError(\n",
    "            reduction=\"auto\", name=\"mean_squared_error\"\n",
    "        ),\n",
    "        metrics=[\"accuracy\", \"mean_absolute_error\"],\n",
    "    )\n",
    "\n",
    "    return model"
   ]
  },
  {
   "cell_type": "code",
   "execution_count": null,
   "id": "63359e41-274a-44d3-b1e9-2a26e63428dc",
   "metadata": {},
   "outputs": [
    {
     "name": "stdout",
     "output_type": "stream",
     "text": [
      "Epoch 1/2\n",
      "1553/3456 [============>.................] - ETA: 11s - loss: 49062.2188 - accuracy: 0.0039 - mean_absolute_error: 116.9797"
     ]
    }
   ],
   "source": [
    "model = get_compiled_model()\n",
    "model.fit(train_dataset, epochs=2)"
   ]
  },
  {
   "cell_type": "code",
   "execution_count": 13,
   "id": "869a6c95-8e08-4554-bfb1-fac337e1202d",
   "metadata": {},
   "outputs": [
    {
     "name": "stdout",
     "output_type": "stream",
     "text": [
      "1482/1482 [==============================] - 7s 5ms/step - loss: 37940.6133 - accuracy: 0.0054 - mean_absolute_error: 117.5524\n"
     ]
    },
    {
     "data": {
      "text/plain": [
       "[37940.61328125, 0.005398110952228308, 117.55239868164062]"
      ]
     },
     "execution_count": 13,
     "metadata": {},
     "output_type": "execute_result"
    }
   ],
   "source": [
    "model.evaluate(test_dataset)"
   ]
  }
 ],
 "metadata": {
  "kernelspec": {
   "display_name": "tf_metal",
   "language": "python",
   "name": "tf_metal"
  },
  "language_info": {
   "codemirror_mode": {
    "name": "ipython",
    "version": 3
   },
   "file_extension": ".py",
   "mimetype": "text/x-python",
   "name": "python",
   "nbconvert_exporter": "python",
   "pygments_lexer": "ipython3",
   "version": "3.8.6"
  },
  "toc-autonumbering": true,
  "toc-showcode": true
 },
 "nbformat": 4,
 "nbformat_minor": 5
}
