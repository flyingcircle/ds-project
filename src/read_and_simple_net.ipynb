{
 "cells": [
  {
   "cell_type": "code",
   "execution_count": 1,
   "id": "58053409",
   "metadata": {},
   "outputs": [
    {
     "data": {
      "text/plain": [
       "<module 'util' from 'C:\\\\Users\\\\graham\\\\classes\\\\ds_exp\\\\ds-project\\\\src\\\\util.py'>"
      ]
     },
     "execution_count": 1,
     "metadata": {},
     "output_type": "execute_result"
    }
   ],
   "source": [
    "import pandas as pd\n",
    "import numpy as np\n",
    "import imp\n",
    "\n",
    "import data\n",
    "import util\n",
    "\n",
    "imp.reload(data)\n",
    "imp.reload(util)"
   ]
  },
  {
   "cell_type": "code",
   "execution_count": 2,
   "id": "4cf39ddc",
   "metadata": {},
   "outputs": [],
   "source": [
    "daily = data.get_transit_daily()\n",
    "# gets a smaller version for faster troubleshooting\n",
    "daily = data.data_transforms(daily)\n"
   ]
  },
  {
   "cell_type": "code",
   "execution_count": 3,
   "id": "8828fa54-5504-4d6c-a114-084f1197d3d2",
   "metadata": {},
   "outputs": [],
   "source": [
    "# print(sorted(daily))\n",
    "# print(daily.describe())\n",
    "# with pd.option_context(\"display.max_rows\", None, \"display.max_columns\", None):\n",
    "#     print(daily[[\"deviance\", \"label\", \"trip_id\"]].head(1000))"
   ]
  },
  {
   "cell_type": "code",
   "execution_count": 4,
   "id": "74fdc44a",
   "metadata": {},
   "outputs": [],
   "source": [
    "# import functools\n",
    "\n",
    "\n",
    "# # http://szudzik.com/ElegantPairing.pdf\n",
    "# @functools.lru_cache()\n",
    "# def pairing(a, b):\n",
    "#     return a * a + a + b if a >= b else a + b * b\n",
    "\n",
    "\n",
    "# daily[\"stop_id_pairing\"] = np.vectorize(pairing)(\n",
    "#     daily[\"stop_id\"], daily[\"stop_id\"].shift(1)\n",
    "# )"
   ]
  },
  {
   "cell_type": "code",
   "execution_count": 5,
   "id": "84c89088",
   "metadata": {},
   "outputs": [],
   "source": [
    "# daily.describe().transpose()"
   ]
  },
  {
   "cell_type": "code",
   "execution_count": 6,
   "id": "b81b7bcc",
   "metadata": {},
   "outputs": [],
   "source": [
    "# daily[\n",
    "#     [\n",
    "#         \"arrival_time_y\",\n",
    "#         \"departure_time_y\",\n",
    "#         \"arrival_time_x\",\n",
    "#         \"departure_time_x\",\n",
    "#         \"ons\",\n",
    "#         \"offs\",\n",
    "#     ]\n",
    "# ][:50]"
   ]
  },
  {
   "cell_type": "markdown",
   "id": "302b3243",
   "metadata": {},
   "source": [
    "## how do we really want to structure this data?\n",
    "\n",
    "* we want to make things somehow discrete by their trip_id\n",
    "* so we want to somehow take the trip id and feed the model things about the trip\n",
    "* we would feed it about the trip (up to different levels, and also expect it to answer about the whole trip each time\n",
    "* yes so make a multi output thing that takes in a variable amount of information about the trip and answers about either - what it hasnt been supplied yet\n",
    "* we want to have it somehow take in the previous x stops, and predict the next x stops?\n",
    "* we dont want to punish it for guessing outside of the trip either\n",
    "* we could also have it take in the last data to predict the stops\n",
    "* start with only feeding it nothing besides day of the week and stuff, have it predict the times on the route\n",
    "* slowly add in the realtime stats as the bus goes through its route, feeding it more each time\n",
    "* we could either have it feed in more and more until it's filled, or just use a 0 padded window of bus stops. \n",
    "* let's look more into how rnn's and lstm's are normally constructed.\n"
   ]
  },
  {
   "cell_type": "code",
   "execution_count": 7,
   "id": "3372e002",
   "metadata": {},
   "outputs": [],
   "source": [
    "x = daily[data.USED_COLS]\n",
    "x = pd.get_dummies(x)  # turns all categoricals into one hot encoded columns!\n",
    "\n",
    "label = x.pop(\"label\")"
   ]
  },
  {
   "cell_type": "code",
   "execution_count": 8,
   "id": "5dd0e099",
   "metadata": {},
   "outputs": [
    {
     "name": "stdout",
     "output_type": "stream",
     "text": [
      "number of input features:  459\n"
     ]
    }
   ],
   "source": [
    "print(\"number of input features: \", len(sorted(x)))"
   ]
  },
  {
   "cell_type": "code",
   "execution_count": 9,
   "id": "2189e845",
   "metadata": {},
   "outputs": [],
   "source": [
    "import tensorflow as tf\n",
    "\n",
    "tf.random.set_seed(1234)\n",
    "\n",
    "# https://www.tensorflow.org/tutorials/load_data/pandas_dataframe\n",
    "\n",
    "# if batch size is one the net freaks out (maybe traning, maybe testing, either way, it's bad)\n",
    "batch_size = 50\n",
    "data_len = len(x)\n",
    "train = 0.8\n",
    "val = 0.1\n",
    "test = 0.1\n",
    "\n",
    "assert train + val + test == 1\n",
    "\n",
    "train_size = int(train * data_len)\n",
    "val_size = int(val * data_len)\n",
    "\n",
    "dataset = tf.data.Dataset.from_tensor_slices((x.values, label.values))\n",
    "\n",
    "# only shuffles the training set\n",
    "train_dataset = dataset.take(train_size).shuffle(train_size).batch(batch_size)\n",
    "val_dataset = dataset.skip(train_size).take(val_size).batch(batch_size)\n",
    "test_dataset = dataset.skip(train_size).skip(val_size).batch(batch_size)"
   ]
  },
  {
   "cell_type": "code",
   "execution_count": 10,
   "id": "7f63e2e5",
   "metadata": {},
   "outputs": [],
   "source": [
    "def get_compiled_model():\n",
    "    model = tf.keras.Sequential(\n",
    "        [\n",
    "            tf.keras.layers.BatchNormalization(),\n",
    "            tf.keras.layers.Dense(500, activation=\"relu\"),\n",
    "            tf.keras.layers.Dense(100, activation=\"relu\"),\n",
    "            tf.keras.layers.Dense(50, activation=\"relu\"),\n",
    "            tf.keras.layers.Dense(50, activation=\"relu\"),\n",
    "            tf.keras.layers.Dense(50, activation=\"relu\"),\n",
    "            #             tf.keras.layers.Dropout(0.3),\n",
    "            tf.keras.layers.Dense(1),\n",
    "        ]\n",
    "    )\n",
    "\n",
    "    model.compile(\n",
    "        optimizer=\"adam\",\n",
    "        loss=tf.keras.losses.MeanSquaredError(\n",
    "            reduction=\"auto\", name=\"mean_squared_error\"\n",
    "        ),\n",
    "        metrics=[\"accuracy\", \"mean_absolute_error\"],\n",
    "    )\n",
    "\n",
    "    return model"
   ]
  },
  {
   "cell_type": "code",
   "execution_count": 11,
   "id": "00907bdc",
   "metadata": {},
   "outputs": [
    {
     "name": "stdout",
     "output_type": "stream",
     "text": [
      "Epoch 1/100\n",
      "8188/8188 [==============================] - 47s 6ms/step - loss: 9857.8125 - accuracy: 0.0042 - mean_absolute_error: 45.9945 - val_loss: 19961.9531 - val_accuracy: 0.0041 - val_mean_absolute_error: 93.0209\n",
      "Epoch 2/100\n",
      "8188/8188 [==============================] - 46s 6ms/step - loss: 8011.6577 - accuracy: 0.0042 - mean_absolute_error: 41.0965 - val_loss: 82910.4766 - val_accuracy: 0.0041 - val_mean_absolute_error: 72.7298\n",
      "Epoch 3/100\n",
      "8188/8188 [==============================] - 46s 6ms/step - loss: 7063.5542 - accuracy: 0.0043 - mean_absolute_error: 40.2982 - val_loss: 41246.8516 - val_accuracy: 0.0038 - val_mean_absolute_error: 52.2665\n",
      "Epoch 4/100\n",
      "8188/8188 [==============================] - 46s 5ms/step - loss: 6795.5181 - accuracy: 0.0042 - mean_absolute_error: 39.2753 - val_loss: 331230.0000 - val_accuracy: 0.0040 - val_mean_absolute_error: 89.3534\n",
      "Epoch 5/100\n",
      "8188/8188 [==============================] - 46s 5ms/step - loss: 6511.9053 - accuracy: 0.0041 - mean_absolute_error: 38.7394 - val_loss: 162453.4688 - val_accuracy: 0.0038 - val_mean_absolute_error: 64.9060\n",
      "Epoch 6/100\n",
      "8188/8188 [==============================] - 46s 6ms/step - loss: 5604.8687 - accuracy: 0.0042 - mean_absolute_error: 38.1261 - val_loss: 506137.9062 - val_accuracy: 0.0038 - val_mean_absolute_error: 79.5318\n",
      "Epoch 7/100\n",
      "8188/8188 [==============================] - 46s 6ms/step - loss: 6088.1641 - accuracy: 0.0041 - mean_absolute_error: 38.2219 - val_loss: 500666.4375 - val_accuracy: 0.0039 - val_mean_absolute_error: 73.6133\n",
      "Epoch 8/100\n",
      "8188/8188 [==============================] - 47s 6ms/step - loss: 5984.2529 - accuracy: 0.0042 - mean_absolute_error: 37.8233 - val_loss: 62897.2617 - val_accuracy: 0.0040 - val_mean_absolute_error: 49.5074\n",
      "Epoch 9/100\n",
      "8188/8188 [==============================] - 47s 6ms/step - loss: 5737.0210 - accuracy: 0.0042 - mean_absolute_error: 37.4771 - val_loss: 365980.5312 - val_accuracy: 0.0039 - val_mean_absolute_error: 69.6382\n",
      "Epoch 10/100\n",
      "8188/8188 [==============================] - 46s 6ms/step - loss: 6298.1997 - accuracy: 0.0042 - mean_absolute_error: 37.4373 - val_loss: 141390.1875 - val_accuracy: 0.0040 - val_mean_absolute_error: 60.1891\n",
      "Epoch 11/100\n",
      "8188/8188 [==============================] - 47s 6ms/step - loss: 5623.1396 - accuracy: 0.0041 - mean_absolute_error: 37.3000 - val_loss: 520602.7812 - val_accuracy: 0.0041 - val_mean_absolute_error: 74.0761\n",
      "Epoch 12/100\n",
      "8188/8188 [==============================] - 47s 6ms/step - loss: 5291.6030 - accuracy: 0.0041 - mean_absolute_error: 37.0590 - val_loss: 94797.6797 - val_accuracy: 0.0039 - val_mean_absolute_error: 76.4075\n",
      "Epoch 13/100\n",
      "8188/8188 [==============================] - 47s 6ms/step - loss: 5570.7466 - accuracy: 0.0041 - mean_absolute_error: 36.9767 - val_loss: 415091.8125 - val_accuracy: 0.0040 - val_mean_absolute_error: 76.7958\n",
      "Epoch 14/100\n",
      "8188/8188 [==============================] - 47s 6ms/step - loss: 5263.7051 - accuracy: 0.0041 - mean_absolute_error: 36.5937 - val_loss: 221017.6719 - val_accuracy: 0.0038 - val_mean_absolute_error: 63.0532\n",
      "Epoch 15/100\n",
      "8188/8188 [==============================] - 48s 6ms/step - loss: 5145.5342 - accuracy: 0.0042 - mean_absolute_error: 36.6718 - val_loss: 223246.9531 - val_accuracy: 0.0042 - val_mean_absolute_error: 77.5419\n",
      "Epoch 16/100\n",
      "8188/8188 [==============================] - 48s 6ms/step - loss: 5474.0503 - accuracy: 0.0041 - mean_absolute_error: 36.5369 - val_loss: 146469.9531 - val_accuracy: 0.0040 - val_mean_absolute_error: 67.9910\n",
      "Epoch 17/100\n",
      "8188/8188 [==============================] - 47s 6ms/step - loss: 5284.4790 - accuracy: 0.0042 - mean_absolute_error: 36.4568 - val_loss: 87365.3047 - val_accuracy: 0.0040 - val_mean_absolute_error: 69.2909\n",
      "Epoch 18/100\n",
      "8188/8188 [==============================] - 48s 6ms/step - loss: 5070.4644 - accuracy: 0.0042 - mean_absolute_error: 36.1667 - val_loss: 104020.6641 - val_accuracy: 0.0040 - val_mean_absolute_error: 78.7363\n"
     ]
    },
    {
     "data": {
      "text/plain": [
       "<tensorflow.python.keras.callbacks.History at 0x21d8037d580>"
      ]
     },
     "execution_count": 11,
     "metadata": {},
     "output_type": "execute_result"
    }
   ],
   "source": [
    "model = get_compiled_model()\n",
    "callback = tf.keras.callbacks.EarlyStopping(\n",
    "    monitor=\"val_mean_absolute_error\", patience=10, restore_best_weights=True\n",
    ")\n",
    "model.fit(train_dataset, epochs=100, validation_data=val_dataset, callbacks=[callback])"
   ]
  },
  {
   "cell_type": "code",
   "execution_count": 12,
   "id": "3c7420fe",
   "metadata": {},
   "outputs": [
    {
     "name": "stdout",
     "output_type": "stream",
     "text": [
      "1024/1024 [==============================] - 4s 3ms/step - loss: 72694.4844 - accuracy: 0.0037 - mean_absolute_error: 44.8378\n"
     ]
    },
    {
     "data": {
      "text/plain": [
       "[72694.484375, 0.0037128229159861803, 44.837806701660156]"
      ]
     },
     "execution_count": 12,
     "metadata": {},
     "output_type": "execute_result"
    }
   ],
   "source": [
    "model.evaluate(test_dataset)"
   ]
  },
  {
   "cell_type": "code",
   "execution_count": 13,
   "id": "f7aef57d",
   "metadata": {},
   "outputs": [],
   "source": [
    "preds = []\n",
    "labels = []\n",
    "for data in test_dataset:\n",
    "    preds.append(model.predict_on_batch(data[0]).flatten())\n",
    "    labels.append(data[1])\n",
    "\n",
    "preds = [p.tolist() for p in preds]\n",
    "labels = [l.numpy().tolist() for l in labels]\n",
    "\n",
    "preds = util.flatten(preds)\n",
    "labels = util.flatten(labels)\n",
    "assert len(preds) == len(labels)"
   ]
  },
  {
   "cell_type": "code",
   "execution_count": 14,
   "id": "4cff56af",
   "metadata": {},
   "outputs": [
    {
     "data": {
      "image/png": "[encoded data removed]",
      "text/plain": [
       "<Figure size 1440x504 with 1 Axes>"
      ]
     },
     "metadata": {
      "needs_background": "light"
     },
     "output_type": "display_data"
    },
    {
     "data": {
      "text/html": [
       "\n",
       "                <audio  controls=\"controls\" autoplay=\"autoplay\">\n",
       "                    <source src=\"https://www.myinstants.com/media/sounds/magic_immune.mp3\" type=\"audio/mpeg\" />\n",
       "                    Your browser does not support the audio element.\n",
       "                </audio>\n",
       "              "
      ],
      "text/plain": [
       "<IPython.lib.display.Audio object>"
      ]
     },
     "metadata": {},
     "output_type": "display_data"
    }
   ],
   "source": [
    "from matplotlib import pyplot as plt\n",
    "\n",
    "# adjust these numbers to change the width and height of the plot!\n",
    "plt.rcParams[\"figure.figsize\"] = [20, 7]\n",
    "\n",
    "util.plot(69, 420, preds, labels)\n",
    "\n",
    "util.allDone()"
   ]
  }
 ],
 "metadata": {
  "kernelspec": {
   "display_name": "tf-gpu",
   "language": "python",
   "name": "tf-gpu"
  },
  "language_info": {
   "codemirror_mode": {
    "name": "ipython",
    "version": 3
   },
   "file_extension": ".py",
   "mimetype": "text/x-python",
   "name": "python",
   "nbconvert_exporter": "python",
   "pygments_lexer": "ipython3",
   "version": "3.9.5"
  },
  "toc-autonumbering": true,
  "toc-showcode": true
 },
 "nbformat": 4,
 "nbformat_minor": 5
}
