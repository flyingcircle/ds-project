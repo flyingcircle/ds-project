{
 "cells": [
  {
   "cell_type": "code",
   "execution_count": 1,
   "id": "58053409",
   "metadata": {},
   "outputs": [
    {
     "data": {
      "text/plain": [
       "<module 'util' from 'C:\\\\Users\\\\graham\\\\classes\\\\ds_exp\\\\ds-project\\\\src\\\\util.py'>"
      ]
     },
     "execution_count": 1,
     "metadata": {},
     "output_type": "execute_result"
    }
   ],
   "source": [
    "import numpy as np\n",
    "import pandas as pd\n",
    "import imp\n",
    "import os\n",
    "\n",
    "import data\n",
    "import util\n",
    "\n",
    "imp.reload(data)\n",
    "imp.reload(util)"
   ]
  },
  {
   "cell_type": "code",
   "execution_count": 2,
   "id": "f10001ce-57c3-4339-93d9-567bc365b5c1",
   "metadata": {},
   "outputs": [],
   "source": [
    "from IPython.display import Audio, display\n",
    "\n",
    "url_exception = \"http://www.wav-sounds.com/movie/austinpowers.wav\"\n",
    "url_exception = \"https://www.myinstants.com/media/sounds/roblox-death-sound_1.mp3\"\n",
    "\n",
    "\n",
    "def play_sound(self, etype, value, tb, tb_offset=None):\n",
    "    self.showtraceback((etype, value, tb), tb_offset=tb_offset)\n",
    "    display(Audio(url=url_exception, autoplay=True))\n",
    "\n",
    "\n",
    "get_ipython().set_custom_exc((Exception,), play_sound)"
   ]
  },
  {
   "cell_type": "code",
   "execution_count": 3,
   "id": "003dcdc7-b55f-46a2-a2b3-dae2114eb494",
   "metadata": {},
   "outputs": [],
   "source": [
    "data_dir = os.path.join(os.getcwd(), \"..\", \"data\")\n",
    "save_file = os.path.join(data_dir, \"mega_stop_event.hdf\")\n",
    "df = pd.read_hdf(save_file, \"/df\", stop=10000)"
   ]
  },
  {
   "cell_type": "code",
   "execution_count": 4,
   "id": "9ff27a3a-16fb-44f6-b909-7b6d3c54e988",
   "metadata": {},
   "outputs": [],
   "source": [
    "df = df.sort_values([\"service_date\", \"train\", \"stop_time\"])"
   ]
  },
  {
   "cell_type": "code",
   "execution_count": 5,
   "id": "90b73ed9-bf8a-4a7b-b345-2c5663dccea3",
   "metadata": {},
   "outputs": [],
   "source": [
    "# print(sorted(df))\n",
    "# print(df.dtypes.T)\n",
    "# util.big_print(df.head(10))"
   ]
  },
  {
   "cell_type": "code",
   "execution_count": 6,
   "id": "03e6e549-f2ca-44f2-8c3d-e15cf2b88218",
   "metadata": {},
   "outputs": [],
   "source": [
    "# filter\n",
    "df = df[\n",
    "    [\n",
    "        #         \"apc_status\",\n",
    "        \"arrival_deviance\",\n",
    "        \"arrive_deviance_departure_delta\",\n",
    "        \"arrive_time\",\n",
    "        \"data_source\",\n",
    "        \"day_of_week\",\n",
    "        \"day_of_year\",\n",
    "        \"direction\",\n",
    "        \"door\",\n",
    "        \"dwell\",\n",
    "        \"estimated_load\",\n",
    "        \"leave_time\",\n",
    "        \"lift\",\n",
    "        \"location_id\",\n",
    "        \"maximum_speed\",\n",
    "        \"offs\",\n",
    "        \"ons\",\n",
    "        \"pattern_distance\",\n",
    "        \"route_number\",\n",
    "        \"schedule_status\",\n",
    "        #         \"service_date\",\n",
    "        \"service_key\",\n",
    "        \"stop_time\",\n",
    "        \"time_cat_arrive_time\",\n",
    "        \"time_cat_leave_time\",\n",
    "        \"time_cat_stop_time\",\n",
    "        \"train\",\n",
    "        \"train_mileage\",\n",
    "        \"trip_number\",\n",
    "        \"vehicle_number\",\n",
    "        \"x_coordinate\",\n",
    "        \"y_coordinate\",\n",
    "    ]\n",
    "]"
   ]
  },
  {
   "cell_type": "code",
   "execution_count": 7,
   "id": "18e6c388-83d1-460c-b6fe-aae45ed3ab60",
   "metadata": {},
   "outputs": [],
   "source": [
    "df[\"label\"] = df.groupby(\"trip_number\")[\"arrival_deviance\"].shift(-1)\n",
    "df = df[~df.isin([np.nan, np.inf, -np.inf]).any(1)]"
   ]
  },
  {
   "cell_type": "markdown",
   "id": "302b3243",
   "metadata": {},
   "source": [
    "## how do we really want to structure this data?\n",
    "\n",
    "* we want to make things somehow discrete by their trip_id\n",
    "* so we want to somehow take the trip id and feed the model things about the trip\n",
    "* we would feed it about the trip (up to different levels, and also expect it to answer about the whole trip each time\n",
    "* yes so make a multi output thing that takes in a variable amount of information about the trip and answers about either - what it hasnt been supplied yet\n",
    "* we want to have it somehow take in the previous x stops, and predict the next x stops?\n",
    "* we dont want to punish it for guessing outside of the trip either\n",
    "* we could also have it take in the last data to predict the stops\n",
    "* start with only feeding it nothing besides day of the week and stuff, have it predict the times on the route\n",
    "* slowly add in the realtime stats as the bus goes through its route, feeding it more each time\n",
    "* we could either have it feed in more and more until it's filled, or just use a 0 padded window of bus stops. \n",
    "* let's look more into how rnn's and lstm's are normally constructed.\n"
   ]
  },
  {
   "cell_type": "code",
   "execution_count": 8,
   "id": "3372e002",
   "metadata": {},
   "outputs": [],
   "source": [
    "df = pd.get_dummies(df)  # turns all categoricals into one hot encoded columns!"
   ]
  },
  {
   "cell_type": "code",
   "execution_count": 9,
   "id": "7633839d-ce33-4692-b512-22c671d3697b",
   "metadata": {},
   "outputs": [],
   "source": [
    "df = df.astype(\"float32\")"
   ]
  },
  {
   "cell_type": "code",
   "execution_count": 10,
   "id": "5dd0e099",
   "metadata": {},
   "outputs": [
    {
     "name": "stdout",
     "output_type": "stream",
     "text": [
      "number of input features:  1544\n"
     ]
    }
   ],
   "source": [
    "print(\"number of input features: \", len(sorted(df)))"
   ]
  },
  {
   "cell_type": "code",
   "execution_count": 11,
   "id": "524d052a-7077-4898-8cd1-c3386a3893aa",
   "metadata": {},
   "outputs": [],
   "source": [
    "def train_val_test(train, val, test, df, target):\n",
    "    assert train + val + test == 1\n",
    "    data_len = len(df)\n",
    "    train_size = int(train * data_len)\n",
    "    val_size = int(val * data_len)\n",
    "\n",
    "    x = []\n",
    "    x.append(df.iloc[:train_size])\n",
    "    x.append(df.iloc[train_size : train_size + val_size])\n",
    "    x.append(df.iloc[train_size + val_size :])\n",
    "\n",
    "    y = []\n",
    "    for df in x:\n",
    "        y.append(df.pop(target))\n",
    "\n",
    "    return (*x, *y)\n",
    "\n",
    "\n",
    "x_train, x_val, x_test, y_train, y_val, y_test = train_val_test(\n",
    "    0.8, 0.1, 0.1, df, \"label\"\n",
    ")"
   ]
  },
  {
   "cell_type": "code",
   "execution_count": 12,
   "id": "f5c12758-a320-4bc9-b8fb-557b3cf80b14",
   "metadata": {},
   "outputs": [],
   "source": [
    "# shuffle\n",
    "from numpy.random import default_rng\n",
    "\n",
    "\n",
    "def shuffle_dfs(a, b):\n",
    "    assert a.shape[0] == b.shape[0]\n",
    "    length = a.shape[0]\n",
    "    x = a\n",
    "    y = b\n",
    "    rng = default_rng()\n",
    "    idx = rng.choice(length, length)\n",
    "    x = x.iloc[idx]\n",
    "    y = y.iloc[idx]\n",
    "    return x, y\n",
    "\n",
    "\n",
    "# x_train, y_train = shuffle_dfs(x_train, y_train)"
   ]
  },
  {
   "cell_type": "code",
   "execution_count": 13,
   "id": "95fd3ed7-5999-4fa2-a475-f5d1817aeaff",
   "metadata": {},
   "outputs": [],
   "source": [
    "# from sklearn.decomposition import PCA\n",
    "# from sklearn.preprocessing import MinMaxScaler\n",
    "# from sklearn.pipeline import Pipeline\n",
    "\n",
    "# pipe = Pipeline([(\"scaler\", MinMaxScaler()), (\"pca\", PCA(300))])\n",
    "# x_train = pipe.fit_transform(x_train)\n",
    "# print(\"sum of variance_ratio: \", np.sum(pipe[\"pca\"].explained_variance_ratio_))\n",
    "# x_val = pipe.transform(x_val)\n",
    "# x_test = pipe.transform(x_test)"
   ]
  },
  {
   "cell_type": "code",
   "execution_count": 14,
   "id": "2189e845",
   "metadata": {},
   "outputs": [],
   "source": [
    "import tensorflow as tf\n",
    "\n",
    "tf.random.set_seed(1234)"
   ]
  },
  {
   "cell_type": "code",
   "execution_count": 15,
   "id": "7f63e2e5",
   "metadata": {},
   "outputs": [],
   "source": [
    "def get_compiled_model():\n",
    "    model = tf.keras.Sequential(\n",
    "        [\n",
    "            tf.keras.layers.BatchNormalization(),\n",
    "            tf.keras.layers.Dense(1000, activation=\"relu\"),\n",
    "            tf.keras.layers.Dense(500, activation=\"relu\"),\n",
    "            tf.keras.layers.Dense(100, activation=\"relu\"),\n",
    "            tf.keras.layers.Dense(100, activation=\"relu\"),\n",
    "            tf.keras.layers.Dense(100, activation=\"relu\"),\n",
    "            tf.keras.layers.BatchNormalization(),\n",
    "            tf.keras.layers.Dense(50, activation=\"relu\"),\n",
    "            tf.keras.layers.Dense(50, activation=\"relu\"),\n",
    "            tf.keras.layers.Dense(50, activation=\"relu\"),\n",
    "            tf.keras.layers.Dense(50, activation=\"relu\"),\n",
    "            #             tf.keras.layers.Dropout(0.3),\n",
    "            tf.keras.layers.Dense(1),\n",
    "        ]\n",
    "    )\n",
    "\n",
    "    model.compile(\n",
    "        optimizer=\"adam\",\n",
    "        loss=tf.keras.losses.MeanSquaredError(\n",
    "            reduction=\"auto\", name=\"mean_squared_error\"\n",
    "        ),\n",
    "        metrics=[\"accuracy\", \"mean_absolute_error\"],\n",
    "    )\n",
    "\n",
    "    return model"
   ]
  },
  {
   "cell_type": "code",
   "execution_count": 16,
   "id": "00907bdc",
   "metadata": {},
   "outputs": [
    {
     "name": "stdout",
     "output_type": "stream",
     "text": [
      "Epoch 1/100\n",
      "1599/1599 [==============================] - 15s 9ms/step - loss: 700018.0000 - accuracy: 0.0034 - mean_absolute_error: 126.9842 - val_loss: 1331859.8750 - val_accuracy: 0.0041 - val_mean_absolute_error: 381.3351\n",
      "Epoch 2/100\n",
      "1599/1599 [==============================] - 13s 8ms/step - loss: 694331.7500 - accuracy: 0.0036 - mean_absolute_error: 127.6876 - val_loss: 8558156.0000 - val_accuracy: 0.0041 - val_mean_absolute_error: 1793.0892\n",
      "Epoch 3/100\n",
      "1599/1599 [==============================] - 14s 9ms/step - loss: 693642.3750 - accuracy: 0.0036 - mean_absolute_error: 134.3877 - val_loss: 5129158.5000 - val_accuracy: 0.0038 - val_mean_absolute_error: 1312.7069\n"
     ]
    },
    {
     "data": {
      "text/plain": [
       "<tensorflow.python.keras.callbacks.History at 0x22a263ef460>"
      ]
     },
     "execution_count": 16,
     "metadata": {},
     "output_type": "execute_result"
    }
   ],
   "source": [
    "model = get_compiled_model()\n",
    "callback = tf.keras.callbacks.EarlyStopping(\n",
    "    monitor=\"val_mean_absolute_error\", patience=2, restore_best_weights=True\n",
    ")\n",
    "model.fit(\n",
    "    x=x_train,\n",
    "    y=y_train,\n",
    "    batch_size=50,\n",
    "    epochs=100,\n",
    "    validation_data=(x_val, y_val),\n",
    "    callbacks=[callback],\n",
    ")"
   ]
  },
  {
   "cell_type": "code",
   "execution_count": 17,
   "id": "3c7420fe",
   "metadata": {},
   "outputs": [
    {
     "name": "stdout",
     "output_type": "stream",
     "text": [
      "313/313 [==============================] - 1s 3ms/step - loss: 683297.0625 - accuracy: 0.0053 - mean_absolute_error: 481.5450\n"
     ]
    },
    {
     "data": {
      "text/plain": [
       "[683297.0625, 0.005304243415594101, 481.5450439453125]"
      ]
     },
     "execution_count": 17,
     "metadata": {},
     "output_type": "execute_result"
    }
   ],
   "source": [
    "model.evaluate(x=x_test, y=y_test)"
   ]
  },
  {
   "cell_type": "code",
   "execution_count": 18,
   "id": "f7aef57d",
   "metadata": {},
   "outputs": [
    {
     "data": {
      "image/png": "[encoded data removed]",
      "text/plain": [
       "<Figure size 1440x504 with 1 Axes>"
      ]
     },
     "metadata": {
      "needs_background": "light"
     },
     "output_type": "display_data"
    },
    {
     "data": {
      "text/html": [
       "\n",
       "                <audio  controls=\"controls\" autoplay=\"autoplay\">\n",
       "                    <source src=\"https://www.myinstants.com/media/sounds/magic_immune.mp3\" type=\"audio/mpeg\" />\n",
       "                    Your browser does not support the audio element.\n",
       "                </audio>\n",
       "              "
      ],
      "text/plain": [
       "<IPython.lib.display.Audio object>"
      ]
     },
     "metadata": {},
     "output_type": "display_data"
    }
   ],
   "source": [
    "preds = model.predict(x=x_test)\n",
    "util.plot(69, 420, preds, y_test)\n",
    "util.allDone()"
   ]
  },
  {
   "cell_type": "code",
   "execution_count": null,
   "id": "6a39125f-7377-4962-8764-0d9fe064ee0b",
   "metadata": {},
   "outputs": [],
   "source": []
  },
  {
   "cell_type": "code",
   "execution_count": null,
   "id": "72aeeba3-68f4-4e2c-abe7-843ba2b3fa9f",
   "metadata": {},
   "outputs": [],
   "source": []
  }
 ],
 "metadata": {
  "kernelspec": {
   "display_name": "tf",
   "language": "python",
   "name": "tf"
  },
  "language_info": {
   "codemirror_mode": {
    "name": "ipython",
    "version": 3
   },
   "file_extension": ".py",
   "mimetype": "text/x-python",
   "name": "python",
   "nbconvert_exporter": "python",
   "pygments_lexer": "ipython3",
   "version": "3.8.10"
  },
  "toc-autonumbering": true,
  "toc-showcode": true
 },
 "nbformat": 4,
 "nbformat_minor": 5
}
